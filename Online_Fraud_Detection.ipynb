{
  "nbformat": 4,
  "nbformat_minor": 0,
  "metadata": {
    "colab": {
      "provenance": []
    },
    "kernelspec": {
      "name": "python3",
      "display_name": "Python 3"
    },
    "language_info": {
      "name": "python"
    }
  },
  "cells": [
    {
      "cell_type": "markdown",
      "source": [
        "# Data Cleaning and Wrangling"
      ],
      "metadata": {
        "id": "AnVlBbyiiYL6"
      }
    },
    {
      "cell_type": "code",
      "execution_count": 64,
      "metadata": {
        "id": "ZxUVuEHZY2tm"
      },
      "outputs": [],
      "source": [
        "import pandas as pd\n",
        "import matplotlib.pyplot as plt\n",
        "import seaborn as sns\n",
        "import plotly.express as px\n",
        "import numpy as np"
      ]
    },
    {
      "cell_type": "code",
      "source": [
        "path = '/content/drive/MyDrive/Data/online_payments.csv'\n",
        "payments = pd.read_csv(path)\n",
        "payments.head()"
      ],
      "metadata": {
        "colab": {
          "base_uri": "https://localhost:8080/",
          "height": 270
        },
        "id": "8fbExV1SZOM9",
        "outputId": "91e2e537-f10e-4735-c6bf-58c5f2c08633"
      },
      "execution_count": 65,
      "outputs": [
        {
          "output_type": "execute_result",
          "data": {
            "text/plain": [
              "   step      type     amount     nameOrig  oldbalanceOrg  newbalanceOrig  \\\n",
              "0   474  CASH_OUT  126446.63   C174067172         380.00            0.00   \n",
              "1   371  CASH_OUT  153642.55   C337127075       30573.00            0.00   \n",
              "2   164  CASH_OUT  137518.53  C1702587448      113492.00            0.00   \n",
              "3   250   CASH_IN  207143.06   C368643872    21615216.43     21822359.49   \n",
              "4    35  TRANSFER  805530.80   C682349864           0.00            0.00   \n",
              "\n",
              "      nameDest  oldbalanceDest  newbalanceDest  isFraud  isFlaggedFraud  \n",
              "0  C1304086107      3110081.55      3236528.17        0               0  \n",
              "1  C1114937097            0.00       153642.55        0               0  \n",
              "2  C1757581032            0.00       137518.53        0               0  \n",
              "3   C282319479      1420049.66      1212906.61        0               0  \n",
              "4   C208507246      1407712.49      2213243.29        0               0  "
            ],
            "text/html": [
              "\n",
              "  <div id=\"df-dc0b8b15-b39b-4d3c-90ce-3df1137b45dc\">\n",
              "    <div class=\"colab-df-container\">\n",
              "      <div>\n",
              "<style scoped>\n",
              "    .dataframe tbody tr th:only-of-type {\n",
              "        vertical-align: middle;\n",
              "    }\n",
              "\n",
              "    .dataframe tbody tr th {\n",
              "        vertical-align: top;\n",
              "    }\n",
              "\n",
              "    .dataframe thead th {\n",
              "        text-align: right;\n",
              "    }\n",
              "</style>\n",
              "<table border=\"1\" class=\"dataframe\">\n",
              "  <thead>\n",
              "    <tr style=\"text-align: right;\">\n",
              "      <th></th>\n",
              "      <th>step</th>\n",
              "      <th>type</th>\n",
              "      <th>amount</th>\n",
              "      <th>nameOrig</th>\n",
              "      <th>oldbalanceOrg</th>\n",
              "      <th>newbalanceOrig</th>\n",
              "      <th>nameDest</th>\n",
              "      <th>oldbalanceDest</th>\n",
              "      <th>newbalanceDest</th>\n",
              "      <th>isFraud</th>\n",
              "      <th>isFlaggedFraud</th>\n",
              "    </tr>\n",
              "  </thead>\n",
              "  <tbody>\n",
              "    <tr>\n",
              "      <th>0</th>\n",
              "      <td>474</td>\n",
              "      <td>CASH_OUT</td>\n",
              "      <td>126446.63</td>\n",
              "      <td>C174067172</td>\n",
              "      <td>380.00</td>\n",
              "      <td>0.00</td>\n",
              "      <td>C1304086107</td>\n",
              "      <td>3110081.55</td>\n",
              "      <td>3236528.17</td>\n",
              "      <td>0</td>\n",
              "      <td>0</td>\n",
              "    </tr>\n",
              "    <tr>\n",
              "      <th>1</th>\n",
              "      <td>371</td>\n",
              "      <td>CASH_OUT</td>\n",
              "      <td>153642.55</td>\n",
              "      <td>C337127075</td>\n",
              "      <td>30573.00</td>\n",
              "      <td>0.00</td>\n",
              "      <td>C1114937097</td>\n",
              "      <td>0.00</td>\n",
              "      <td>153642.55</td>\n",
              "      <td>0</td>\n",
              "      <td>0</td>\n",
              "    </tr>\n",
              "    <tr>\n",
              "      <th>2</th>\n",
              "      <td>164</td>\n",
              "      <td>CASH_OUT</td>\n",
              "      <td>137518.53</td>\n",
              "      <td>C1702587448</td>\n",
              "      <td>113492.00</td>\n",
              "      <td>0.00</td>\n",
              "      <td>C1757581032</td>\n",
              "      <td>0.00</td>\n",
              "      <td>137518.53</td>\n",
              "      <td>0</td>\n",
              "      <td>0</td>\n",
              "    </tr>\n",
              "    <tr>\n",
              "      <th>3</th>\n",
              "      <td>250</td>\n",
              "      <td>CASH_IN</td>\n",
              "      <td>207143.06</td>\n",
              "      <td>C368643872</td>\n",
              "      <td>21615216.43</td>\n",
              "      <td>21822359.49</td>\n",
              "      <td>C282319479</td>\n",
              "      <td>1420049.66</td>\n",
              "      <td>1212906.61</td>\n",
              "      <td>0</td>\n",
              "      <td>0</td>\n",
              "    </tr>\n",
              "    <tr>\n",
              "      <th>4</th>\n",
              "      <td>35</td>\n",
              "      <td>TRANSFER</td>\n",
              "      <td>805530.80</td>\n",
              "      <td>C682349864</td>\n",
              "      <td>0.00</td>\n",
              "      <td>0.00</td>\n",
              "      <td>C208507246</td>\n",
              "      <td>1407712.49</td>\n",
              "      <td>2213243.29</td>\n",
              "      <td>0</td>\n",
              "      <td>0</td>\n",
              "    </tr>\n",
              "  </tbody>\n",
              "</table>\n",
              "</div>\n",
              "      <button class=\"colab-df-convert\" onclick=\"convertToInteractive('df-dc0b8b15-b39b-4d3c-90ce-3df1137b45dc')\"\n",
              "              title=\"Convert this dataframe to an interactive table.\"\n",
              "              style=\"display:none;\">\n",
              "        \n",
              "  <svg xmlns=\"http://www.w3.org/2000/svg\" height=\"24px\"viewBox=\"0 0 24 24\"\n",
              "       width=\"24px\">\n",
              "    <path d=\"M0 0h24v24H0V0z\" fill=\"none\"/>\n",
              "    <path d=\"M18.56 5.44l.94 2.06.94-2.06 2.06-.94-2.06-.94-.94-2.06-.94 2.06-2.06.94zm-11 1L8.5 8.5l.94-2.06 2.06-.94-2.06-.94L8.5 2.5l-.94 2.06-2.06.94zm10 10l.94 2.06.94-2.06 2.06-.94-2.06-.94-.94-2.06-.94 2.06-2.06.94z\"/><path d=\"M17.41 7.96l-1.37-1.37c-.4-.4-.92-.59-1.43-.59-.52 0-1.04.2-1.43.59L10.3 9.45l-7.72 7.72c-.78.78-.78 2.05 0 2.83L4 21.41c.39.39.9.59 1.41.59.51 0 1.02-.2 1.41-.59l7.78-7.78 2.81-2.81c.8-.78.8-2.07 0-2.86zM5.41 20L4 18.59l7.72-7.72 1.47 1.35L5.41 20z\"/>\n",
              "  </svg>\n",
              "      </button>\n",
              "      \n",
              "  <style>\n",
              "    .colab-df-container {\n",
              "      display:flex;\n",
              "      flex-wrap:wrap;\n",
              "      gap: 12px;\n",
              "    }\n",
              "\n",
              "    .colab-df-convert {\n",
              "      background-color: #E8F0FE;\n",
              "      border: none;\n",
              "      border-radius: 50%;\n",
              "      cursor: pointer;\n",
              "      display: none;\n",
              "      fill: #1967D2;\n",
              "      height: 32px;\n",
              "      padding: 0 0 0 0;\n",
              "      width: 32px;\n",
              "    }\n",
              "\n",
              "    .colab-df-convert:hover {\n",
              "      background-color: #E2EBFA;\n",
              "      box-shadow: 0px 1px 2px rgba(60, 64, 67, 0.3), 0px 1px 3px 1px rgba(60, 64, 67, 0.15);\n",
              "      fill: #174EA6;\n",
              "    }\n",
              "\n",
              "    [theme=dark] .colab-df-convert {\n",
              "      background-color: #3B4455;\n",
              "      fill: #D2E3FC;\n",
              "    }\n",
              "\n",
              "    [theme=dark] .colab-df-convert:hover {\n",
              "      background-color: #434B5C;\n",
              "      box-shadow: 0px 1px 3px 1px rgba(0, 0, 0, 0.15);\n",
              "      filter: drop-shadow(0px 1px 2px rgba(0, 0, 0, 0.3));\n",
              "      fill: #FFFFFF;\n",
              "    }\n",
              "  </style>\n",
              "\n",
              "      <script>\n",
              "        const buttonEl =\n",
              "          document.querySelector('#df-dc0b8b15-b39b-4d3c-90ce-3df1137b45dc button.colab-df-convert');\n",
              "        buttonEl.style.display =\n",
              "          google.colab.kernel.accessAllowed ? 'block' : 'none';\n",
              "\n",
              "        async function convertToInteractive(key) {\n",
              "          const element = document.querySelector('#df-dc0b8b15-b39b-4d3c-90ce-3df1137b45dc');\n",
              "          const dataTable =\n",
              "            await google.colab.kernel.invokeFunction('convertToInteractive',\n",
              "                                                     [key], {});\n",
              "          if (!dataTable) return;\n",
              "\n",
              "          const docLinkHtml = 'Like what you see? Visit the ' +\n",
              "            '<a target=\"_blank\" href=https://colab.research.google.com/notebooks/data_table.ipynb>data table notebook</a>'\n",
              "            + ' to learn more about interactive tables.';\n",
              "          element.innerHTML = '';\n",
              "          dataTable['output_type'] = 'display_data';\n",
              "          await google.colab.output.renderOutput(dataTable, element);\n",
              "          const docLink = document.createElement('div');\n",
              "          docLink.innerHTML = docLinkHtml;\n",
              "          element.appendChild(docLink);\n",
              "        }\n",
              "      </script>\n",
              "    </div>\n",
              "  </div>\n",
              "  "
            ]
          },
          "metadata": {},
          "execution_count": 65
        }
      ]
    },
    {
      "cell_type": "code",
      "source": [
        "payments.isnull().sum()"
      ],
      "metadata": {
        "colab": {
          "base_uri": "https://localhost:8080/"
        },
        "id": "K5d-FBYQZZAZ",
        "outputId": "e32c987d-32ea-48dc-a12b-829eadefd8fd"
      },
      "execution_count": 66,
      "outputs": [
        {
          "output_type": "execute_result",
          "data": {
            "text/plain": [
              "step              0\n",
              "type              0\n",
              "amount            0\n",
              "nameOrig          0\n",
              "oldbalanceOrg     0\n",
              "newbalanceOrig    0\n",
              "nameDest          0\n",
              "oldbalanceDest    0\n",
              "newbalanceDest    0\n",
              "isFraud           0\n",
              "isFlaggedFraud    0\n",
              "dtype: int64"
            ]
          },
          "metadata": {},
          "execution_count": 66
        }
      ]
    },
    {
      "cell_type": "code",
      "source": [
        "payments.info()"
      ],
      "metadata": {
        "colab": {
          "base_uri": "https://localhost:8080/"
        },
        "id": "5GiPep-_gGxf",
        "outputId": "81bbac88-3bbe-4dc9-866f-ef443f038500"
      },
      "execution_count": 67,
      "outputs": [
        {
          "output_type": "stream",
          "name": "stdout",
          "text": [
            "<class 'pandas.core.frame.DataFrame'>\n",
            "RangeIndex: 320000 entries, 0 to 319999\n",
            "Data columns (total 11 columns):\n",
            " #   Column          Non-Null Count   Dtype  \n",
            "---  ------          --------------   -----  \n",
            " 0   step            320000 non-null  int64  \n",
            " 1   type            320000 non-null  object \n",
            " 2   amount          320000 non-null  float64\n",
            " 3   nameOrig        320000 non-null  object \n",
            " 4   oldbalanceOrg   320000 non-null  float64\n",
            " 5   newbalanceOrig  320000 non-null  float64\n",
            " 6   nameDest        320000 non-null  object \n",
            " 7   oldbalanceDest  320000 non-null  float64\n",
            " 8   newbalanceDest  320000 non-null  float64\n",
            " 9   isFraud         320000 non-null  int64  \n",
            " 10  isFlaggedFraud  320000 non-null  int64  \n",
            "dtypes: float64(5), int64(3), object(3)\n",
            "memory usage: 26.9+ MB\n"
          ]
        }
      ]
    },
    {
      "cell_type": "code",
      "source": [
        "payments.describe()"
      ],
      "metadata": {
        "colab": {
          "base_uri": "https://localhost:8080/",
          "height": 364
        },
        "id": "vE8Ud8MwgGsh",
        "outputId": "9a8f135f-e46a-40c9-fc9f-5a889d951f8d"
      },
      "execution_count": 68,
      "outputs": [
        {
          "output_type": "execute_result",
          "data": {
            "text/plain": [
              "                step        amount  oldbalanceOrg  newbalanceOrig  \\\n",
              "count  320000.000000  3.200000e+05   3.200000e+05    3.200000e+05   \n",
              "mean      243.454672  1.787817e+05   8.316842e+05    8.528243e+05   \n",
              "std       142.564403  5.893767e+05   2.888983e+06    2.924741e+06   \n",
              "min         1.000000  0.000000e+00   0.000000e+00    0.000000e+00   \n",
              "25%       155.000000  1.338175e+04   0.000000e+00    0.000000e+00   \n",
              "50%       239.000000  7.455500e+04   1.413435e+04    0.000000e+00   \n",
              "75%       335.000000  2.085494e+05   1.068637e+05    1.426395e+05   \n",
              "max       742.000000  5.894475e+07   3.473055e+07    3.472660e+07   \n",
              "\n",
              "       oldbalanceDest  newbalanceDest        isFraud  isFlaggedFraud  \n",
              "count    3.200000e+05    3.200000e+05  320000.000000   320000.000000  \n",
              "mean     1.103943e+06    1.227495e+06       0.001250        0.000006  \n",
              "std      3.485814e+06    3.745304e+06       0.035333        0.002500  \n",
              "min      0.000000e+00    0.000000e+00       0.000000        0.000000  \n",
              "25%      0.000000e+00    0.000000e+00       0.000000        0.000000  \n",
              "50%      1.318600e+05    2.137321e+05       0.000000        0.000000  \n",
              "75%      9.372722e+05    1.107397e+06       0.000000        0.000000  \n",
              "max      3.555534e+08    3.553814e+08       1.000000        1.000000  "
            ],
            "text/html": [
              "\n",
              "  <div id=\"df-693e17f9-16c7-4788-8c63-fff3095dfe74\">\n",
              "    <div class=\"colab-df-container\">\n",
              "      <div>\n",
              "<style scoped>\n",
              "    .dataframe tbody tr th:only-of-type {\n",
              "        vertical-align: middle;\n",
              "    }\n",
              "\n",
              "    .dataframe tbody tr th {\n",
              "        vertical-align: top;\n",
              "    }\n",
              "\n",
              "    .dataframe thead th {\n",
              "        text-align: right;\n",
              "    }\n",
              "</style>\n",
              "<table border=\"1\" class=\"dataframe\">\n",
              "  <thead>\n",
              "    <tr style=\"text-align: right;\">\n",
              "      <th></th>\n",
              "      <th>step</th>\n",
              "      <th>amount</th>\n",
              "      <th>oldbalanceOrg</th>\n",
              "      <th>newbalanceOrig</th>\n",
              "      <th>oldbalanceDest</th>\n",
              "      <th>newbalanceDest</th>\n",
              "      <th>isFraud</th>\n",
              "      <th>isFlaggedFraud</th>\n",
              "    </tr>\n",
              "  </thead>\n",
              "  <tbody>\n",
              "    <tr>\n",
              "      <th>count</th>\n",
              "      <td>320000.000000</td>\n",
              "      <td>3.200000e+05</td>\n",
              "      <td>3.200000e+05</td>\n",
              "      <td>3.200000e+05</td>\n",
              "      <td>3.200000e+05</td>\n",
              "      <td>3.200000e+05</td>\n",
              "      <td>320000.000000</td>\n",
              "      <td>320000.000000</td>\n",
              "    </tr>\n",
              "    <tr>\n",
              "      <th>mean</th>\n",
              "      <td>243.454672</td>\n",
              "      <td>1.787817e+05</td>\n",
              "      <td>8.316842e+05</td>\n",
              "      <td>8.528243e+05</td>\n",
              "      <td>1.103943e+06</td>\n",
              "      <td>1.227495e+06</td>\n",
              "      <td>0.001250</td>\n",
              "      <td>0.000006</td>\n",
              "    </tr>\n",
              "    <tr>\n",
              "      <th>std</th>\n",
              "      <td>142.564403</td>\n",
              "      <td>5.893767e+05</td>\n",
              "      <td>2.888983e+06</td>\n",
              "      <td>2.924741e+06</td>\n",
              "      <td>3.485814e+06</td>\n",
              "      <td>3.745304e+06</td>\n",
              "      <td>0.035333</td>\n",
              "      <td>0.002500</td>\n",
              "    </tr>\n",
              "    <tr>\n",
              "      <th>min</th>\n",
              "      <td>1.000000</td>\n",
              "      <td>0.000000e+00</td>\n",
              "      <td>0.000000e+00</td>\n",
              "      <td>0.000000e+00</td>\n",
              "      <td>0.000000e+00</td>\n",
              "      <td>0.000000e+00</td>\n",
              "      <td>0.000000</td>\n",
              "      <td>0.000000</td>\n",
              "    </tr>\n",
              "    <tr>\n",
              "      <th>25%</th>\n",
              "      <td>155.000000</td>\n",
              "      <td>1.338175e+04</td>\n",
              "      <td>0.000000e+00</td>\n",
              "      <td>0.000000e+00</td>\n",
              "      <td>0.000000e+00</td>\n",
              "      <td>0.000000e+00</td>\n",
              "      <td>0.000000</td>\n",
              "      <td>0.000000</td>\n",
              "    </tr>\n",
              "    <tr>\n",
              "      <th>50%</th>\n",
              "      <td>239.000000</td>\n",
              "      <td>7.455500e+04</td>\n",
              "      <td>1.413435e+04</td>\n",
              "      <td>0.000000e+00</td>\n",
              "      <td>1.318600e+05</td>\n",
              "      <td>2.137321e+05</td>\n",
              "      <td>0.000000</td>\n",
              "      <td>0.000000</td>\n",
              "    </tr>\n",
              "    <tr>\n",
              "      <th>75%</th>\n",
              "      <td>335.000000</td>\n",
              "      <td>2.085494e+05</td>\n",
              "      <td>1.068637e+05</td>\n",
              "      <td>1.426395e+05</td>\n",
              "      <td>9.372722e+05</td>\n",
              "      <td>1.107397e+06</td>\n",
              "      <td>0.000000</td>\n",
              "      <td>0.000000</td>\n",
              "    </tr>\n",
              "    <tr>\n",
              "      <th>max</th>\n",
              "      <td>742.000000</td>\n",
              "      <td>5.894475e+07</td>\n",
              "      <td>3.473055e+07</td>\n",
              "      <td>3.472660e+07</td>\n",
              "      <td>3.555534e+08</td>\n",
              "      <td>3.553814e+08</td>\n",
              "      <td>1.000000</td>\n",
              "      <td>1.000000</td>\n",
              "    </tr>\n",
              "  </tbody>\n",
              "</table>\n",
              "</div>\n",
              "      <button class=\"colab-df-convert\" onclick=\"convertToInteractive('df-693e17f9-16c7-4788-8c63-fff3095dfe74')\"\n",
              "              title=\"Convert this dataframe to an interactive table.\"\n",
              "              style=\"display:none;\">\n",
              "        \n",
              "  <svg xmlns=\"http://www.w3.org/2000/svg\" height=\"24px\"viewBox=\"0 0 24 24\"\n",
              "       width=\"24px\">\n",
              "    <path d=\"M0 0h24v24H0V0z\" fill=\"none\"/>\n",
              "    <path d=\"M18.56 5.44l.94 2.06.94-2.06 2.06-.94-2.06-.94-.94-2.06-.94 2.06-2.06.94zm-11 1L8.5 8.5l.94-2.06 2.06-.94-2.06-.94L8.5 2.5l-.94 2.06-2.06.94zm10 10l.94 2.06.94-2.06 2.06-.94-2.06-.94-.94-2.06-.94 2.06-2.06.94z\"/><path d=\"M17.41 7.96l-1.37-1.37c-.4-.4-.92-.59-1.43-.59-.52 0-1.04.2-1.43.59L10.3 9.45l-7.72 7.72c-.78.78-.78 2.05 0 2.83L4 21.41c.39.39.9.59 1.41.59.51 0 1.02-.2 1.41-.59l7.78-7.78 2.81-2.81c.8-.78.8-2.07 0-2.86zM5.41 20L4 18.59l7.72-7.72 1.47 1.35L5.41 20z\"/>\n",
              "  </svg>\n",
              "      </button>\n",
              "      \n",
              "  <style>\n",
              "    .colab-df-container {\n",
              "      display:flex;\n",
              "      flex-wrap:wrap;\n",
              "      gap: 12px;\n",
              "    }\n",
              "\n",
              "    .colab-df-convert {\n",
              "      background-color: #E8F0FE;\n",
              "      border: none;\n",
              "      border-radius: 50%;\n",
              "      cursor: pointer;\n",
              "      display: none;\n",
              "      fill: #1967D2;\n",
              "      height: 32px;\n",
              "      padding: 0 0 0 0;\n",
              "      width: 32px;\n",
              "    }\n",
              "\n",
              "    .colab-df-convert:hover {\n",
              "      background-color: #E2EBFA;\n",
              "      box-shadow: 0px 1px 2px rgba(60, 64, 67, 0.3), 0px 1px 3px 1px rgba(60, 64, 67, 0.15);\n",
              "      fill: #174EA6;\n",
              "    }\n",
              "\n",
              "    [theme=dark] .colab-df-convert {\n",
              "      background-color: #3B4455;\n",
              "      fill: #D2E3FC;\n",
              "    }\n",
              "\n",
              "    [theme=dark] .colab-df-convert:hover {\n",
              "      background-color: #434B5C;\n",
              "      box-shadow: 0px 1px 3px 1px rgba(0, 0, 0, 0.15);\n",
              "      filter: drop-shadow(0px 1px 2px rgba(0, 0, 0, 0.3));\n",
              "      fill: #FFFFFF;\n",
              "    }\n",
              "  </style>\n",
              "\n",
              "      <script>\n",
              "        const buttonEl =\n",
              "          document.querySelector('#df-693e17f9-16c7-4788-8c63-fff3095dfe74 button.colab-df-convert');\n",
              "        buttonEl.style.display =\n",
              "          google.colab.kernel.accessAllowed ? 'block' : 'none';\n",
              "\n",
              "        async function convertToInteractive(key) {\n",
              "          const element = document.querySelector('#df-693e17f9-16c7-4788-8c63-fff3095dfe74');\n",
              "          const dataTable =\n",
              "            await google.colab.kernel.invokeFunction('convertToInteractive',\n",
              "                                                     [key], {});\n",
              "          if (!dataTable) return;\n",
              "\n",
              "          const docLinkHtml = 'Like what you see? Visit the ' +\n",
              "            '<a target=\"_blank\" href=https://colab.research.google.com/notebooks/data_table.ipynb>data table notebook</a>'\n",
              "            + ' to learn more about interactive tables.';\n",
              "          element.innerHTML = '';\n",
              "          dataTable['output_type'] = 'display_data';\n",
              "          await google.colab.output.renderOutput(dataTable, element);\n",
              "          const docLink = document.createElement('div');\n",
              "          docLink.innerHTML = docLinkHtml;\n",
              "          element.appendChild(docLink);\n",
              "        }\n",
              "      </script>\n",
              "    </div>\n",
              "  </div>\n",
              "  "
            ]
          },
          "metadata": {},
          "execution_count": 68
        }
      ]
    },
    {
      "cell_type": "markdown",
      "source": [
        "Scaling won't be needed here because most of the columns are associated with amounts"
      ],
      "metadata": {
        "id": "O6jZifiSgTA9"
      }
    },
    {
      "cell_type": "code",
      "source": [
        "# Checking the values in the step column\n",
        "payments['step'].value_counts()"
      ],
      "metadata": {
        "colab": {
          "base_uri": "https://localhost:8080/"
        },
        "id": "OVZEdWOJgGoA",
        "outputId": "afef5873-fc0e-4068-e9e0-03241f7be0ad"
      },
      "execution_count": 69,
      "outputs": [
        {
          "output_type": "execute_result",
          "data": {
            "text/plain": [
              "19     2533\n",
              "18     2452\n",
              "187    2419\n",
              "235    2401\n",
              "307    2396\n",
              "       ... \n",
              "248       1\n",
              "560       1\n",
              "294       1\n",
              "430       1\n",
              "101       1\n",
              "Name: step, Length: 550, dtype: int64"
            ]
          },
          "metadata": {},
          "execution_count": 69
        }
      ]
    },
    {
      "cell_type": "code",
      "source": [
        "payments['step'].hist(bins=30)\n",
        "plt.title('Distribution of the values in the step column');"
      ],
      "metadata": {
        "colab": {
          "base_uri": "https://localhost:8080/",
          "height": 281
        },
        "id": "0yafc4yEgGjl",
        "outputId": "4bd76603-51b8-4c55-a6ca-7b3b8a07f257"
      },
      "execution_count": 70,
      "outputs": [
        {
          "output_type": "display_data",
          "data": {
            "text/plain": [
              "<Figure size 432x288 with 1 Axes>"
            ],
            "image/png": "[encoded data removed]"
          },
          "metadata": {
            "needs_background": "light"
          }
        }
      ]
    },
    {
      "cell_type": "code",
      "source": [
        "payments['isFraud'].value_counts()"
      ],
      "metadata": {
        "colab": {
          "base_uri": "https://localhost:8080/"
        },
        "id": "dN7yIugmgGfA",
        "outputId": "e4611753-1b21-4a19-a270-c90d887d7953"
      },
      "execution_count": 71,
      "outputs": [
        {
          "output_type": "execute_result",
          "data": {
            "text/plain": [
              "0    319600\n",
              "1       400\n",
              "Name: isFraud, dtype: int64"
            ]
          },
          "metadata": {},
          "execution_count": 71
        }
      ]
    },
    {
      "cell_type": "code",
      "source": [
        "payments['isFraud'].value_counts(normalize=True)"
      ],
      "metadata": {
        "colab": {
          "base_uri": "https://localhost:8080/"
        },
        "id": "QOBx4wFpob4m",
        "outputId": "5bc26359-8b55-4b10-9a1a-0030369da1db"
      },
      "execution_count": 72,
      "outputs": [
        {
          "output_type": "execute_result",
          "data": {
            "text/plain": [
              "0    0.99875\n",
              "1    0.00125\n",
              "Name: isFraud, dtype: float64"
            ]
          },
          "metadata": {},
          "execution_count": 72
        }
      ]
    },
    {
      "cell_type": "code",
      "source": [
        "payments['isFraud'].value_counts(normalize=True).plot(kind='bar',\n",
        "                                                      xlabel='Barplot',\n",
        "                                                      ylabel='Frequency',\n",
        "                                                      title = 'Class Imbalance'\n",
        "    \n",
        ");"
      ],
      "metadata": {
        "colab": {
          "base_uri": "https://localhost:8080/",
          "height": 292
        },
        "id": "nC8qXhRQn__s",
        "outputId": "71c8e5cb-e3c8-4cc8-c1ed-b799cefbdd28"
      },
      "execution_count": 73,
      "outputs": [
        {
          "output_type": "display_data",
          "data": {
            "text/plain": [
              "<Figure size 432x288 with 1 Axes>"
            ],
            "image/png": "[encoded data removed]"
          },
          "metadata": {
            "needs_background": "light"
          }
        }
      ]
    },
    {
      "cell_type": "code",
      "source": [
        "payments['isFlaggedFraud'].value_counts()"
      ],
      "metadata": {
        "colab": {
          "base_uri": "https://localhost:8080/"
        },
        "id": "Cyjud9-rgGUo",
        "outputId": "7c8cc00f-b175-4830-9656-94f17b53cee5"
      },
      "execution_count": 74,
      "outputs": [
        {
          "output_type": "execute_result",
          "data": {
            "text/plain": [
              "0    319998\n",
              "1         2\n",
              "Name: isFlaggedFraud, dtype: int64"
            ]
          },
          "metadata": {},
          "execution_count": 74
        }
      ]
    },
    {
      "cell_type": "markdown",
      "source": [
        "It is clear here to see that the amount of flagged fraud transactions is significantly less than the number of actual fraud transactions"
      ],
      "metadata": {
        "id": "O5QKdP5IhQPb"
      }
    },
    {
      "cell_type": "code",
      "source": [
        "# Dropping columns \n",
        "payments.drop(columns=['step','nameDest', 'nameOrig'], inplace=True)"
      ],
      "metadata": {
        "id": "CCdmgfL7hSI7"
      },
      "execution_count": 75,
      "outputs": []
    },
    {
      "cell_type": "code",
      "source": [
        "payments.rename(columns={'oldbalanceOrg':'old_balance_orig', \n",
        "                         'newbalanceOrig':'new_balance_orig', \n",
        "                         'oldbalanceDest':'old_balance_dest',\n",
        "                         'newbalanceDest':'new_balance_dest',\n",
        "                         'isFraud':'is_fraud',\n",
        "                         'isFlaggedFraud':'is_flagged_fraud'}, inplace=True)"
      ],
      "metadata": {
        "id": "eCAjgBdJZZw6"
      },
      "execution_count": 76,
      "outputs": []
    },
    {
      "cell_type": "code",
      "source": [
        "payments['type'].value_counts()"
      ],
      "metadata": {
        "colab": {
          "base_uri": "https://localhost:8080/"
        },
        "id": "jlYqtWdVhIxs",
        "outputId": "076f3ef6-870f-41f7-ed51-c01365f6690b"
      },
      "execution_count": 77,
      "outputs": [
        {
          "output_type": "execute_result",
          "data": {
            "text/plain": [
              "CASH_OUT    112797\n",
              "PAYMENT     108387\n",
              "CASH_IN      70055\n",
              "TRANSFER     26614\n",
              "DEBIT         2147\n",
              "Name: type, dtype: int64"
            ]
          },
          "metadata": {},
          "execution_count": 77
        }
      ]
    },
    {
      "cell_type": "code",
      "source": [
        "payments['type'].value_counts()"
      ],
      "metadata": {
        "colab": {
          "base_uri": "https://localhost:8080/"
        },
        "id": "mOAmjjDthIs6",
        "outputId": "23a0f8ed-2d94-4bcd-f163-7aaf424d9e20"
      },
      "execution_count": 78,
      "outputs": [
        {
          "output_type": "execute_result",
          "data": {
            "text/plain": [
              "CASH_OUT    112797\n",
              "PAYMENT     108387\n",
              "CASH_IN      70055\n",
              "TRANSFER     26614\n",
              "DEBIT         2147\n",
              "Name: type, dtype: int64"
            ]
          },
          "metadata": {},
          "execution_count": 78
        }
      ]
    },
    {
      "cell_type": "markdown",
      "source": [
        "We can observe that cashout and payment take up more than 60% of all online transactions. While debit is the most insignificant"
      ],
      "metadata": {
        "id": "kFErUJRBhmRk"
      }
    },
    {
      "cell_type": "code",
      "source": [
        "# Checking the correlation between the columns\n",
        "plt.figure(figsize=(15,8))\n",
        "sns.heatmap(payments.corr());"
      ],
      "metadata": {
        "colab": {
          "base_uri": "https://localhost:8080/",
          "height": 488
        },
        "id": "3ufo44ELhi7U",
        "outputId": "4ed78387-435f-4de7-fe95-c99d98d614e1"
      },
      "execution_count": 79,
      "outputs": [
        {
          "output_type": "display_data",
          "data": {
            "text/plain": [
              "<Figure size 1080x576 with 2 Axes>"
            ],
            "image/png": "[encoded data removed]"
          },
          "metadata": {
            "needs_background": "light"
          }
        }
      ]
    },
    {
      "cell_type": "markdown",
      "source": [
        "From this, we can see a few things:\n",
        "\n",
        "1.The old_balance_orig and the new_balance_orig columns have a very high correlation.\n",
        "\n",
        "2.The old_balance_dest and the new_balance_dest columns also have a very high correlation.\n",
        "\n",
        "3.The amount column has some correlation, about 0.4 to 0.5, with the old_balance_dest and new_balane_dest columns."
      ],
      "metadata": {
        "id": "sTQRFN3Lhtds"
      }
    },
    {
      "cell_type": "markdown",
      "source": [
        "**Analysing the is_fraud column:**\n",
        "\n",
        "Creating a fraud variable to see the chhahracteristics of the fraudulent transactions in the dataset"
      ],
      "metadata": {
        "id": "4huBXR7Lh5sw"
      }
    },
    {
      "cell_type": "code",
      "source": [
        "payments[\"is_fraud\"] = payments[\"is_fraud\"].map({0: \"No Fraud\", 1: \"Fraud\"})\n",
        "\n",
        "payments['is_flagged_fraud'] = payments['is_flagged_fraud'].map({0: \"No\", 1: \"Yes\"})"
      ],
      "metadata": {
        "id": "VN7HRk2qZlb3"
      },
      "execution_count": 80,
      "outputs": []
    },
    {
      "cell_type": "code",
      "source": [
        "payments.head()"
      ],
      "metadata": {
        "colab": {
          "base_uri": "https://localhost:8080/",
          "height": 270
        },
        "id": "0v_ucD2Qh1zc",
        "outputId": "d0f1eeee-34b4-4681-ba41-4731d4ef42b0"
      },
      "execution_count": 81,
      "outputs": [
        {
          "output_type": "execute_result",
          "data": {
            "text/plain": [
              "       type     amount  old_balance_orig  new_balance_orig  old_balance_dest  \\\n",
              "0  CASH_OUT  126446.63            380.00              0.00        3110081.55   \n",
              "1  CASH_OUT  153642.55          30573.00              0.00              0.00   \n",
              "2  CASH_OUT  137518.53         113492.00              0.00              0.00   \n",
              "3   CASH_IN  207143.06       21615216.43       21822359.49        1420049.66   \n",
              "4  TRANSFER  805530.80              0.00              0.00        1407712.49   \n",
              "\n",
              "   new_balance_dest  is_fraud is_flagged_fraud  \n",
              "0        3236528.17  No Fraud               No  \n",
              "1         153642.55  No Fraud               No  \n",
              "2         137518.53  No Fraud               No  \n",
              "3        1212906.61  No Fraud               No  \n",
              "4        2213243.29  No Fraud               No  "
            ],
            "text/html": [
              "\n",
              "  <div id=\"df-466e2183-48c9-4b2f-a8d5-aca2a191311d\">\n",
              "    <div class=\"colab-df-container\">\n",
              "      <div>\n",
              "<style scoped>\n",
              "    .dataframe tbody tr th:only-of-type {\n",
              "        vertical-align: middle;\n",
              "    }\n",
              "\n",
              "    .dataframe tbody tr th {\n",
              "        vertical-align: top;\n",
              "    }\n",
              "\n",
              "    .dataframe thead th {\n",
              "        text-align: right;\n",
              "    }\n",
              "</style>\n",
              "<table border=\"1\" class=\"dataframe\">\n",
              "  <thead>\n",
              "    <tr style=\"text-align: right;\">\n",
              "      <th></th>\n",
              "      <th>type</th>\n",
              "      <th>amount</th>\n",
              "      <th>old_balance_orig</th>\n",
              "      <th>new_balance_orig</th>\n",
              "      <th>old_balance_dest</th>\n",
              "      <th>new_balance_dest</th>\n",
              "      <th>is_fraud</th>\n",
              "      <th>is_flagged_fraud</th>\n",
              "    </tr>\n",
              "  </thead>\n",
              "  <tbody>\n",
              "    <tr>\n",
              "      <th>0</th>\n",
              "      <td>CASH_OUT</td>\n",
              "      <td>126446.63</td>\n",
              "      <td>380.00</td>\n",
              "      <td>0.00</td>\n",
              "      <td>3110081.55</td>\n",
              "      <td>3236528.17</td>\n",
              "      <td>No Fraud</td>\n",
              "      <td>No</td>\n",
              "    </tr>\n",
              "    <tr>\n",
              "      <th>1</th>\n",
              "      <td>CASH_OUT</td>\n",
              "      <td>153642.55</td>\n",
              "      <td>30573.00</td>\n",
              "      <td>0.00</td>\n",
              "      <td>0.00</td>\n",
              "      <td>153642.55</td>\n",
              "      <td>No Fraud</td>\n",
              "      <td>No</td>\n",
              "    </tr>\n",
              "    <tr>\n",
              "      <th>2</th>\n",
              "      <td>CASH_OUT</td>\n",
              "      <td>137518.53</td>\n",
              "      <td>113492.00</td>\n",
              "      <td>0.00</td>\n",
              "      <td>0.00</td>\n",
              "      <td>137518.53</td>\n",
              "      <td>No Fraud</td>\n",
              "      <td>No</td>\n",
              "    </tr>\n",
              "    <tr>\n",
              "      <th>3</th>\n",
              "      <td>CASH_IN</td>\n",
              "      <td>207143.06</td>\n",
              "      <td>21615216.43</td>\n",
              "      <td>21822359.49</td>\n",
              "      <td>1420049.66</td>\n",
              "      <td>1212906.61</td>\n",
              "      <td>No Fraud</td>\n",
              "      <td>No</td>\n",
              "    </tr>\n",
              "    <tr>\n",
              "      <th>4</th>\n",
              "      <td>TRANSFER</td>\n",
              "      <td>805530.80</td>\n",
              "      <td>0.00</td>\n",
              "      <td>0.00</td>\n",
              "      <td>1407712.49</td>\n",
              "      <td>2213243.29</td>\n",
              "      <td>No Fraud</td>\n",
              "      <td>No</td>\n",
              "    </tr>\n",
              "  </tbody>\n",
              "</table>\n",
              "</div>\n",
              "      <button class=\"colab-df-convert\" onclick=\"convertToInteractive('df-466e2183-48c9-4b2f-a8d5-aca2a191311d')\"\n",
              "              title=\"Convert this dataframe to an interactive table.\"\n",
              "              style=\"display:none;\">\n",
              "        \n",
              "  <svg xmlns=\"http://www.w3.org/2000/svg\" height=\"24px\"viewBox=\"0 0 24 24\"\n",
              "       width=\"24px\">\n",
              "    <path d=\"M0 0h24v24H0V0z\" fill=\"none\"/>\n",
              "    <path d=\"M18.56 5.44l.94 2.06.94-2.06 2.06-.94-2.06-.94-.94-2.06-.94 2.06-2.06.94zm-11 1L8.5 8.5l.94-2.06 2.06-.94-2.06-.94L8.5 2.5l-.94 2.06-2.06.94zm10 10l.94 2.06.94-2.06 2.06-.94-2.06-.94-.94-2.06-.94 2.06-2.06.94z\"/><path d=\"M17.41 7.96l-1.37-1.37c-.4-.4-.92-.59-1.43-.59-.52 0-1.04.2-1.43.59L10.3 9.45l-7.72 7.72c-.78.78-.78 2.05 0 2.83L4 21.41c.39.39.9.59 1.41.59.51 0 1.02-.2 1.41-.59l7.78-7.78 2.81-2.81c.8-.78.8-2.07 0-2.86zM5.41 20L4 18.59l7.72-7.72 1.47 1.35L5.41 20z\"/>\n",
              "  </svg>\n",
              "      </button>\n",
              "      \n",
              "  <style>\n",
              "    .colab-df-container {\n",
              "      display:flex;\n",
              "      flex-wrap:wrap;\n",
              "      gap: 12px;\n",
              "    }\n",
              "\n",
              "    .colab-df-convert {\n",
              "      background-color: #E8F0FE;\n",
              "      border: none;\n",
              "      border-radius: 50%;\n",
              "      cursor: pointer;\n",
              "      display: none;\n",
              "      fill: #1967D2;\n",
              "      height: 32px;\n",
              "      padding: 0 0 0 0;\n",
              "      width: 32px;\n",
              "    }\n",
              "\n",
              "    .colab-df-convert:hover {\n",
              "      background-color: #E2EBFA;\n",
              "      box-shadow: 0px 1px 2px rgba(60, 64, 67, 0.3), 0px 1px 3px 1px rgba(60, 64, 67, 0.15);\n",
              "      fill: #174EA6;\n",
              "    }\n",
              "\n",
              "    [theme=dark] .colab-df-convert {\n",
              "      background-color: #3B4455;\n",
              "      fill: #D2E3FC;\n",
              "    }\n",
              "\n",
              "    [theme=dark] .colab-df-convert:hover {\n",
              "      background-color: #434B5C;\n",
              "      box-shadow: 0px 1px 3px 1px rgba(0, 0, 0, 0.15);\n",
              "      filter: drop-shadow(0px 1px 2px rgba(0, 0, 0, 0.3));\n",
              "      fill: #FFFFFF;\n",
              "    }\n",
              "  </style>\n",
              "\n",
              "      <script>\n",
              "        const buttonEl =\n",
              "          document.querySelector('#df-466e2183-48c9-4b2f-a8d5-aca2a191311d button.colab-df-convert');\n",
              "        buttonEl.style.display =\n",
              "          google.colab.kernel.accessAllowed ? 'block' : 'none';\n",
              "\n",
              "        async function convertToInteractive(key) {\n",
              "          const element = document.querySelector('#df-466e2183-48c9-4b2f-a8d5-aca2a191311d');\n",
              "          const dataTable =\n",
              "            await google.colab.kernel.invokeFunction('convertToInteractive',\n",
              "                                                     [key], {});\n",
              "          if (!dataTable) return;\n",
              "\n",
              "          const docLinkHtml = 'Like what you see? Visit the ' +\n",
              "            '<a target=\"_blank\" href=https://colab.research.google.com/notebooks/data_table.ipynb>data table notebook</a>'\n",
              "            + ' to learn more about interactive tables.';\n",
              "          element.innerHTML = '';\n",
              "          dataTable['output_type'] = 'display_data';\n",
              "          await google.colab.output.renderOutput(dataTable, element);\n",
              "          const docLink = document.createElement('div');\n",
              "          docLink.innerHTML = docLinkHtml;\n",
              "          element.appendChild(docLink);\n",
              "        }\n",
              "      </script>\n",
              "    </div>\n",
              "  </div>\n",
              "  "
            ]
          },
          "metadata": {},
          "execution_count": 81
        }
      ]
    },
    {
      "cell_type": "code",
      "source": [
        "fraud = payments[payments['is_fraud'] == 'Fraud']\n",
        "fraud"
      ],
      "metadata": {
        "colab": {
          "base_uri": "https://localhost:8080/",
          "height": 488
        },
        "id": "aRvmmXCjZlX1",
        "outputId": "35e5d607-59fd-42c5-a593-ba9551d4bb27"
      },
      "execution_count": 82,
      "outputs": [
        {
          "output_type": "execute_result",
          "data": {
            "text/plain": [
              "            type       amount  old_balance_orig  new_balance_orig  \\\n",
              "2054    TRANSFER    215013.30         215013.30              0.00   \n",
              "2176    TRANSFER  10000000.00       19593838.63        9593838.63   \n",
              "2463    CASH_OUT    104171.37         104171.37              0.00   \n",
              "2764    TRANSFER   1150561.97        1150561.97              0.00   \n",
              "5575    CASH_OUT   1732090.28        1732090.28              0.00   \n",
              "...          ...          ...               ...               ...   \n",
              "317207  CASH_OUT     72782.82          72782.82              0.00   \n",
              "318472  TRANSFER    265680.73         265680.73              0.00   \n",
              "318620  TRANSFER     86070.17          86070.17              0.00   \n",
              "318631  TRANSFER    794421.26         794421.26              0.00   \n",
              "318702  TRANSFER    891944.51         891944.51              0.00   \n",
              "\n",
              "        old_balance_dest  new_balance_dest is_fraud is_flagged_fraud  \n",
              "2054                0.00              0.00    Fraud               No  \n",
              "2176                0.00              0.00    Fraud               No  \n",
              "2463            64407.18         168578.56    Fraud               No  \n",
              "2764                0.00              0.00    Fraud               No  \n",
              "5575           998647.97        2730738.25    Fraud               No  \n",
              "...                  ...               ...      ...              ...  \n",
              "317207        2185531.03        2258313.86    Fraud               No  \n",
              "318472              0.00              0.00    Fraud               No  \n",
              "318620              0.00              0.00    Fraud               No  \n",
              "318631              0.00              0.00    Fraud               No  \n",
              "318702              0.00              0.00    Fraud               No  \n",
              "\n",
              "[400 rows x 8 columns]"
            ],
            "text/html": [
              "\n",
              "  <div id=\"df-c21b0f69-eb62-4469-b6ab-67820401f42c\">\n",
              "    <div class=\"colab-df-container\">\n",
              "      <div>\n",
              "<style scoped>\n",
              "    .dataframe tbody tr th:only-of-type {\n",
              "        vertical-align: middle;\n",
              "    }\n",
              "\n",
              "    .dataframe tbody tr th {\n",
              "        vertical-align: top;\n",
              "    }\n",
              "\n",
              "    .dataframe thead th {\n",
              "        text-align: right;\n",
              "    }\n",
              "</style>\n",
              "<table border=\"1\" class=\"dataframe\">\n",
              "  <thead>\n",
              "    <tr style=\"text-align: right;\">\n",
              "      <th></th>\n",
              "      <th>type</th>\n",
              "      <th>amount</th>\n",
              "      <th>old_balance_orig</th>\n",
              "      <th>new_balance_orig</th>\n",
              "      <th>old_balance_dest</th>\n",
              "      <th>new_balance_dest</th>\n",
              "      <th>is_fraud</th>\n",
              "      <th>is_flagged_fraud</th>\n",
              "    </tr>\n",
              "  </thead>\n",
              "  <tbody>\n",
              "    <tr>\n",
              "      <th>2054</th>\n",
              "      <td>TRANSFER</td>\n",
              "      <td>215013.30</td>\n",
              "      <td>215013.30</td>\n",
              "      <td>0.00</td>\n",
              "      <td>0.00</td>\n",
              "      <td>0.00</td>\n",
              "      <td>Fraud</td>\n",
              "      <td>No</td>\n",
              "    </tr>\n",
              "    <tr>\n",
              "      <th>2176</th>\n",
              "      <td>TRANSFER</td>\n",
              "      <td>10000000.00</td>\n",
              "      <td>19593838.63</td>\n",
              "      <td>9593838.63</td>\n",
              "      <td>0.00</td>\n",
              "      <td>0.00</td>\n",
              "      <td>Fraud</td>\n",
              "      <td>No</td>\n",
              "    </tr>\n",
              "    <tr>\n",
              "      <th>2463</th>\n",
              "      <td>CASH_OUT</td>\n",
              "      <td>104171.37</td>\n",
              "      <td>104171.37</td>\n",
              "      <td>0.00</td>\n",
              "      <td>64407.18</td>\n",
              "      <td>168578.56</td>\n",
              "      <td>Fraud</td>\n",
              "      <td>No</td>\n",
              "    </tr>\n",
              "    <tr>\n",
              "      <th>2764</th>\n",
              "      <td>TRANSFER</td>\n",
              "      <td>1150561.97</td>\n",
              "      <td>1150561.97</td>\n",
              "      <td>0.00</td>\n",
              "      <td>0.00</td>\n",
              "      <td>0.00</td>\n",
              "      <td>Fraud</td>\n",
              "      <td>No</td>\n",
              "    </tr>\n",
              "    <tr>\n",
              "      <th>5575</th>\n",
              "      <td>CASH_OUT</td>\n",
              "      <td>1732090.28</td>\n",
              "      <td>1732090.28</td>\n",
              "      <td>0.00</td>\n",
              "      <td>998647.97</td>\n",
              "      <td>2730738.25</td>\n",
              "      <td>Fraud</td>\n",
              "      <td>No</td>\n",
              "    </tr>\n",
              "    <tr>\n",
              "      <th>...</th>\n",
              "      <td>...</td>\n",
              "      <td>...</td>\n",
              "      <td>...</td>\n",
              "      <td>...</td>\n",
              "      <td>...</td>\n",
              "      <td>...</td>\n",
              "      <td>...</td>\n",
              "      <td>...</td>\n",
              "    </tr>\n",
              "    <tr>\n",
              "      <th>317207</th>\n",
              "      <td>CASH_OUT</td>\n",
              "      <td>72782.82</td>\n",
              "      <td>72782.82</td>\n",
              "      <td>0.00</td>\n",
              "      <td>2185531.03</td>\n",
              "      <td>2258313.86</td>\n",
              "      <td>Fraud</td>\n",
              "      <td>No</td>\n",
              "    </tr>\n",
              "    <tr>\n",
              "      <th>318472</th>\n",
              "      <td>TRANSFER</td>\n",
              "      <td>265680.73</td>\n",
              "      <td>265680.73</td>\n",
              "      <td>0.00</td>\n",
              "      <td>0.00</td>\n",
              "      <td>0.00</td>\n",
              "      <td>Fraud</td>\n",
              "      <td>No</td>\n",
              "    </tr>\n",
              "    <tr>\n",
              "      <th>318620</th>\n",
              "      <td>TRANSFER</td>\n",
              "      <td>86070.17</td>\n",
              "      <td>86070.17</td>\n",
              "      <td>0.00</td>\n",
              "      <td>0.00</td>\n",
              "      <td>0.00</td>\n",
              "      <td>Fraud</td>\n",
              "      <td>No</td>\n",
              "    </tr>\n",
              "    <tr>\n",
              "      <th>318631</th>\n",
              "      <td>TRANSFER</td>\n",
              "      <td>794421.26</td>\n",
              "      <td>794421.26</td>\n",
              "      <td>0.00</td>\n",
              "      <td>0.00</td>\n",
              "      <td>0.00</td>\n",
              "      <td>Fraud</td>\n",
              "      <td>No</td>\n",
              "    </tr>\n",
              "    <tr>\n",
              "      <th>318702</th>\n",
              "      <td>TRANSFER</td>\n",
              "      <td>891944.51</td>\n",
              "      <td>891944.51</td>\n",
              "      <td>0.00</td>\n",
              "      <td>0.00</td>\n",
              "      <td>0.00</td>\n",
              "      <td>Fraud</td>\n",
              "      <td>No</td>\n",
              "    </tr>\n",
              "  </tbody>\n",
              "</table>\n",
              "<p>400 rows × 8 columns</p>\n",
              "</div>\n",
              "      <button class=\"colab-df-convert\" onclick=\"convertToInteractive('df-c21b0f69-eb62-4469-b6ab-67820401f42c')\"\n",
              "              title=\"Convert this dataframe to an interactive table.\"\n",
              "              style=\"display:none;\">\n",
              "        \n",
              "  <svg xmlns=\"http://www.w3.org/2000/svg\" height=\"24px\"viewBox=\"0 0 24 24\"\n",
              "       width=\"24px\">\n",
              "    <path d=\"M0 0h24v24H0V0z\" fill=\"none\"/>\n",
              "    <path d=\"M18.56 5.44l.94 2.06.94-2.06 2.06-.94-2.06-.94-.94-2.06-.94 2.06-2.06.94zm-11 1L8.5 8.5l.94-2.06 2.06-.94-2.06-.94L8.5 2.5l-.94 2.06-2.06.94zm10 10l.94 2.06.94-2.06 2.06-.94-2.06-.94-.94-2.06-.94 2.06-2.06.94z\"/><path d=\"M17.41 7.96l-1.37-1.37c-.4-.4-.92-.59-1.43-.59-.52 0-1.04.2-1.43.59L10.3 9.45l-7.72 7.72c-.78.78-.78 2.05 0 2.83L4 21.41c.39.39.9.59 1.41.59.51 0 1.02-.2 1.41-.59l7.78-7.78 2.81-2.81c.8-.78.8-2.07 0-2.86zM5.41 20L4 18.59l7.72-7.72 1.47 1.35L5.41 20z\"/>\n",
              "  </svg>\n",
              "      </button>\n",
              "      \n",
              "  <style>\n",
              "    .colab-df-container {\n",
              "      display:flex;\n",
              "      flex-wrap:wrap;\n",
              "      gap: 12px;\n",
              "    }\n",
              "\n",
              "    .colab-df-convert {\n",
              "      background-color: #E8F0FE;\n",
              "      border: none;\n",
              "      border-radius: 50%;\n",
              "      cursor: pointer;\n",
              "      display: none;\n",
              "      fill: #1967D2;\n",
              "      height: 32px;\n",
              "      padding: 0 0 0 0;\n",
              "      width: 32px;\n",
              "    }\n",
              "\n",
              "    .colab-df-convert:hover {\n",
              "      background-color: #E2EBFA;\n",
              "      box-shadow: 0px 1px 2px rgba(60, 64, 67, 0.3), 0px 1px 3px 1px rgba(60, 64, 67, 0.15);\n",
              "      fill: #174EA6;\n",
              "    }\n",
              "\n",
              "    [theme=dark] .colab-df-convert {\n",
              "      background-color: #3B4455;\n",
              "      fill: #D2E3FC;\n",
              "    }\n",
              "\n",
              "    [theme=dark] .colab-df-convert:hover {\n",
              "      background-color: #434B5C;\n",
              "      box-shadow: 0px 1px 3px 1px rgba(0, 0, 0, 0.15);\n",
              "      filter: drop-shadow(0px 1px 2px rgba(0, 0, 0, 0.3));\n",
              "      fill: #FFFFFF;\n",
              "    }\n",
              "  </style>\n",
              "\n",
              "      <script>\n",
              "        const buttonEl =\n",
              "          document.querySelector('#df-c21b0f69-eb62-4469-b6ab-67820401f42c button.colab-df-convert');\n",
              "        buttonEl.style.display =\n",
              "          google.colab.kernel.accessAllowed ? 'block' : 'none';\n",
              "\n",
              "        async function convertToInteractive(key) {\n",
              "          const element = document.querySelector('#df-c21b0f69-eb62-4469-b6ab-67820401f42c');\n",
              "          const dataTable =\n",
              "            await google.colab.kernel.invokeFunction('convertToInteractive',\n",
              "                                                     [key], {});\n",
              "          if (!dataTable) return;\n",
              "\n",
              "          const docLinkHtml = 'Like what you see? Visit the ' +\n",
              "            '<a target=\"_blank\" href=https://colab.research.google.com/notebooks/data_table.ipynb>data table notebook</a>'\n",
              "            + ' to learn more about interactive tables.';\n",
              "          element.innerHTML = '';\n",
              "          dataTable['output_type'] = 'display_data';\n",
              "          await google.colab.output.renderOutput(dataTable, element);\n",
              "          const docLink = document.createElement('div');\n",
              "          docLink.innerHTML = docLinkHtml;\n",
              "          element.appendChild(docLink);\n",
              "        }\n",
              "      </script>\n",
              "    </div>\n",
              "  </div>\n",
              "  "
            ]
          },
          "metadata": {},
          "execution_count": 82
        }
      ]
    },
    {
      "cell_type": "code",
      "source": [
        "fraud['type'].value_counts()"
      ],
      "metadata": {
        "colab": {
          "base_uri": "https://localhost:8080/"
        },
        "id": "LbvVzAz1iIom",
        "outputId": "dd5baab2-e378-4efb-a41a-5c5b7c94a53f"
      },
      "execution_count": 83,
      "outputs": [
        {
          "output_type": "execute_result",
          "data": {
            "text/plain": [
              "TRANSFER    208\n",
              "CASH_OUT    192\n",
              "Name: type, dtype: int64"
            ]
          },
          "metadata": {},
          "execution_count": 83
        }
      ]
    },
    {
      "cell_type": "code",
      "source": [
        "sns.countplot(data=fraud, x='type', color='blue')\n",
        "plt.xlabel('Payment Type')\n",
        "plt.title('Distribution of fraudulent transactions');"
      ],
      "metadata": {
        "colab": {
          "base_uri": "https://localhost:8080/",
          "height": 296
        },
        "id": "V9Je7_6siIi2",
        "outputId": "ec1461f7-8e76-426b-d240-cbcf7300968d"
      },
      "execution_count": 84,
      "outputs": [
        {
          "output_type": "display_data",
          "data": {
            "text/plain": [
              "<Figure size 432x288 with 1 Axes>"
            ],
            "image/png": "[encoded data removed]"
          },
          "metadata": {
            "needs_background": "light"
          }
        }
      ]
    },
    {
      "cell_type": "markdown",
      "source": [
        "It is clear to see that only the transfer and the cashout transactions have samples that were fraudulent, with cashout hahving a slightly higher number of fraudulent transactions."
      ],
      "metadata": {
        "id": "L1w3Hpw8iQFs"
      }
    },
    {
      "cell_type": "markdown",
      "source": [
        "# Model Building"
      ],
      "metadata": {
        "id": "eI5VOm0IiT0Z"
      }
    },
    {
      "cell_type": "markdown",
      "source": [
        "Mapping the type column so it can be used in training of the model"
      ],
      "metadata": {
        "id": "PR6CKITFigBM"
      }
    },
    {
      "cell_type": "code",
      "source": [
        "payments[\"type\"] = payments[\"type\"].map({\"CASH_OUT\": 1, \"PAYMENT\": 2, \n",
        "                                 \"CASH_IN\": 3, \"TRANSFER\": 4,\n",
        "                                 \"DEBIT\": 5})"
      ],
      "metadata": {
        "id": "TT3NZJBTZlTx"
      },
      "execution_count": 85,
      "outputs": []
    },
    {
      "cell_type": "code",
      "source": [
        "payments.head()"
      ],
      "metadata": {
        "colab": {
          "base_uri": "https://localhost:8080/",
          "height": 250
        },
        "id": "XVPa1fJSiIc-",
        "outputId": "a11971f0-8dcb-4cfd-dd71-fe5cbb8497fd"
      },
      "execution_count": 86,
      "outputs": [
        {
          "output_type": "execute_result",
          "data": {
            "text/plain": [
              "   type     amount  old_balance_orig  new_balance_orig  old_balance_dest  \\\n",
              "0     1  126446.63            380.00              0.00        3110081.55   \n",
              "1     1  153642.55          30573.00              0.00              0.00   \n",
              "2     1  137518.53         113492.00              0.00              0.00   \n",
              "3     3  207143.06       21615216.43       21822359.49        1420049.66   \n",
              "4     4  805530.80              0.00              0.00        1407712.49   \n",
              "\n",
              "   new_balance_dest  is_fraud is_flagged_fraud  \n",
              "0        3236528.17  No Fraud               No  \n",
              "1         153642.55  No Fraud               No  \n",
              "2         137518.53  No Fraud               No  \n",
              "3        1212906.61  No Fraud               No  \n",
              "4        2213243.29  No Fraud               No  "
            ],
            "text/html": [
              "\n",
              "  <div id=\"df-771a0867-410f-4e8a-accf-9796c835bf8c\">\n",
              "    <div class=\"colab-df-container\">\n",
              "      <div>\n",
              "<style scoped>\n",
              "    .dataframe tbody tr th:only-of-type {\n",
              "        vertical-align: middle;\n",
              "    }\n",
              "\n",
              "    .dataframe tbody tr th {\n",
              "        vertical-align: top;\n",
              "    }\n",
              "\n",
              "    .dataframe thead th {\n",
              "        text-align: right;\n",
              "    }\n",
              "</style>\n",
              "<table border=\"1\" class=\"dataframe\">\n",
              "  <thead>\n",
              "    <tr style=\"text-align: right;\">\n",
              "      <th></th>\n",
              "      <th>type</th>\n",
              "      <th>amount</th>\n",
              "      <th>old_balance_orig</th>\n",
              "      <th>new_balance_orig</th>\n",
              "      <th>old_balance_dest</th>\n",
              "      <th>new_balance_dest</th>\n",
              "      <th>is_fraud</th>\n",
              "      <th>is_flagged_fraud</th>\n",
              "    </tr>\n",
              "  </thead>\n",
              "  <tbody>\n",
              "    <tr>\n",
              "      <th>0</th>\n",
              "      <td>1</td>\n",
              "      <td>126446.63</td>\n",
              "      <td>380.00</td>\n",
              "      <td>0.00</td>\n",
              "      <td>3110081.55</td>\n",
              "      <td>3236528.17</td>\n",
              "      <td>No Fraud</td>\n",
              "      <td>No</td>\n",
              "    </tr>\n",
              "    <tr>\n",
              "      <th>1</th>\n",
              "      <td>1</td>\n",
              "      <td>153642.55</td>\n",
              "      <td>30573.00</td>\n",
              "      <td>0.00</td>\n",
              "      <td>0.00</td>\n",
              "      <td>153642.55</td>\n",
              "      <td>No Fraud</td>\n",
              "      <td>No</td>\n",
              "    </tr>\n",
              "    <tr>\n",
              "      <th>2</th>\n",
              "      <td>1</td>\n",
              "      <td>137518.53</td>\n",
              "      <td>113492.00</td>\n",
              "      <td>0.00</td>\n",
              "      <td>0.00</td>\n",
              "      <td>137518.53</td>\n",
              "      <td>No Fraud</td>\n",
              "      <td>No</td>\n",
              "    </tr>\n",
              "    <tr>\n",
              "      <th>3</th>\n",
              "      <td>3</td>\n",
              "      <td>207143.06</td>\n",
              "      <td>21615216.43</td>\n",
              "      <td>21822359.49</td>\n",
              "      <td>1420049.66</td>\n",
              "      <td>1212906.61</td>\n",
              "      <td>No Fraud</td>\n",
              "      <td>No</td>\n",
              "    </tr>\n",
              "    <tr>\n",
              "      <th>4</th>\n",
              "      <td>4</td>\n",
              "      <td>805530.80</td>\n",
              "      <td>0.00</td>\n",
              "      <td>0.00</td>\n",
              "      <td>1407712.49</td>\n",
              "      <td>2213243.29</td>\n",
              "      <td>No Fraud</td>\n",
              "      <td>No</td>\n",
              "    </tr>\n",
              "  </tbody>\n",
              "</table>\n",
              "</div>\n",
              "      <button class=\"colab-df-convert\" onclick=\"convertToInteractive('df-771a0867-410f-4e8a-accf-9796c835bf8c')\"\n",
              "              title=\"Convert this dataframe to an interactive table.\"\n",
              "              style=\"display:none;\">\n",
              "        \n",
              "  <svg xmlns=\"http://www.w3.org/2000/svg\" height=\"24px\"viewBox=\"0 0 24 24\"\n",
              "       width=\"24px\">\n",
              "    <path d=\"M0 0h24v24H0V0z\" fill=\"none\"/>\n",
              "    <path d=\"M18.56 5.44l.94 2.06.94-2.06 2.06-.94-2.06-.94-.94-2.06-.94 2.06-2.06.94zm-11 1L8.5 8.5l.94-2.06 2.06-.94-2.06-.94L8.5 2.5l-.94 2.06-2.06.94zm10 10l.94 2.06.94-2.06 2.06-.94-2.06-.94-.94-2.06-.94 2.06-2.06.94z\"/><path d=\"M17.41 7.96l-1.37-1.37c-.4-.4-.92-.59-1.43-.59-.52 0-1.04.2-1.43.59L10.3 9.45l-7.72 7.72c-.78.78-.78 2.05 0 2.83L4 21.41c.39.39.9.59 1.41.59.51 0 1.02-.2 1.41-.59l7.78-7.78 2.81-2.81c.8-.78.8-2.07 0-2.86zM5.41 20L4 18.59l7.72-7.72 1.47 1.35L5.41 20z\"/>\n",
              "  </svg>\n",
              "      </button>\n",
              "      \n",
              "  <style>\n",
              "    .colab-df-container {\n",
              "      display:flex;\n",
              "      flex-wrap:wrap;\n",
              "      gap: 12px;\n",
              "    }\n",
              "\n",
              "    .colab-df-convert {\n",
              "      background-color: #E8F0FE;\n",
              "      border: none;\n",
              "      border-radius: 50%;\n",
              "      cursor: pointer;\n",
              "      display: none;\n",
              "      fill: #1967D2;\n",
              "      height: 32px;\n",
              "      padding: 0 0 0 0;\n",
              "      width: 32px;\n",
              "    }\n",
              "\n",
              "    .colab-df-convert:hover {\n",
              "      background-color: #E2EBFA;\n",
              "      box-shadow: 0px 1px 2px rgba(60, 64, 67, 0.3), 0px 1px 3px 1px rgba(60, 64, 67, 0.15);\n",
              "      fill: #174EA6;\n",
              "    }\n",
              "\n",
              "    [theme=dark] .colab-df-convert {\n",
              "      background-color: #3B4455;\n",
              "      fill: #D2E3FC;\n",
              "    }\n",
              "\n",
              "    [theme=dark] .colab-df-convert:hover {\n",
              "      background-color: #434B5C;\n",
              "      box-shadow: 0px 1px 3px 1px rgba(0, 0, 0, 0.15);\n",
              "      filter: drop-shadow(0px 1px 2px rgba(0, 0, 0, 0.3));\n",
              "      fill: #FFFFFF;\n",
              "    }\n",
              "  </style>\n",
              "\n",
              "      <script>\n",
              "        const buttonEl =\n",
              "          document.querySelector('#df-771a0867-410f-4e8a-accf-9796c835bf8c button.colab-df-convert');\n",
              "        buttonEl.style.display =\n",
              "          google.colab.kernel.accessAllowed ? 'block' : 'none';\n",
              "\n",
              "        async function convertToInteractive(key) {\n",
              "          const element = document.querySelector('#df-771a0867-410f-4e8a-accf-9796c835bf8c');\n",
              "          const dataTable =\n",
              "            await google.colab.kernel.invokeFunction('convertToInteractive',\n",
              "                                                     [key], {});\n",
              "          if (!dataTable) return;\n",
              "\n",
              "          const docLinkHtml = 'Like what you see? Visit the ' +\n",
              "            '<a target=\"_blank\" href=https://colab.research.google.com/notebooks/data_table.ipynb>data table notebook</a>'\n",
              "            + ' to learn more about interactive tables.';\n",
              "          element.innerHTML = '';\n",
              "          dataTable['output_type'] = 'display_data';\n",
              "          await google.colab.output.renderOutput(dataTable, element);\n",
              "          const docLink = document.createElement('div');\n",
              "          docLink.innerHTML = docLinkHtml;\n",
              "          element.appendChild(docLink);\n",
              "        }\n",
              "      </script>\n",
              "    </div>\n",
              "  </div>\n",
              "  "
            ]
          },
          "metadata": {},
          "execution_count": 86
        }
      ]
    },
    {
      "cell_type": "code",
      "source": [
        "x = payments[['type','amount', 'old_balance_orig', 'new_balance_orig']].values\n",
        "y = payments['is_fraud'].values"
      ],
      "metadata": {
        "id": "3z4txEwRZlPr"
      },
      "execution_count": 87,
      "outputs": []
    },
    {
      "cell_type": "code",
      "source": [
        "y.shape"
      ],
      "metadata": {
        "colab": {
          "base_uri": "https://localhost:8080/"
        },
        "id": "3qakalcIiIRe",
        "outputId": "e8b126c2-12cc-48aa-ee1e-c20411b55656"
      },
      "execution_count": 88,
      "outputs": [
        {
          "output_type": "execute_result",
          "data": {
            "text/plain": [
              "(320000,)"
            ]
          },
          "metadata": {},
          "execution_count": 88
        }
      ]
    },
    {
      "cell_type": "markdown",
      "source": [
        "Randomly splitting the variables into training and testing data using scikit learn's train test split."
      ],
      "metadata": {
        "id": "2ro5Qdyyityt"
      }
    },
    {
      "cell_type": "code",
      "source": [
        "from sklearn.model_selection import train_test_split"
      ],
      "metadata": {
        "id": "D7V8HEOLiqv-"
      },
      "execution_count": 89,
      "outputs": []
    },
    {
      "cell_type": "code",
      "source": [
        "x_train, x_test, y_train, y_test = train_test_split(x, y, test_size=0.20, random_state=42)\n",
        "x_train.shape"
      ],
      "metadata": {
        "colab": {
          "base_uri": "https://localhost:8080/"
        },
        "id": "Axm1bpADZw4l",
        "outputId": "d020ac34-4e50-4826-ac49-4392f81a102e"
      },
      "execution_count": 90,
      "outputs": [
        {
          "output_type": "execute_result",
          "data": {
            "text/plain": [
              "(256000, 4)"
            ]
          },
          "metadata": {},
          "execution_count": 90
        }
      ]
    },
    {
      "cell_type": "code",
      "source": [
        "y_train.shape"
      ],
      "metadata": {
        "colab": {
          "base_uri": "https://localhost:8080/"
        },
        "id": "aXMaR86Qiqpu",
        "outputId": "7c8c79b2-fdbe-4dc6-b537-d849f15a5e70"
      },
      "execution_count": 91,
      "outputs": [
        {
          "output_type": "execute_result",
          "data": {
            "text/plain": [
              "(256000,)"
            ]
          },
          "metadata": {},
          "execution_count": 91
        }
      ]
    },
    {
      "cell_type": "markdown",
      "source": [
        "## Decision Tree Classifier"
      ],
      "metadata": {
        "id": "WeuZqgkmi5ty"
      }
    },
    {
      "cell_type": "markdown",
      "source": [
        "Using the decision tree classifier to perdict fraudulent transactions just providing the type of transaction, the amount and your old and new account balances."
      ],
      "metadata": {
        "id": "kLi5aPd0jDNk"
      }
    },
    {
      "cell_type": "code",
      "source": [
        "from sklearn.tree import DecisionTreeClassifier"
      ],
      "metadata": {
        "id": "ZHdRAZYCZw0T"
      },
      "execution_count": 92,
      "outputs": []
    },
    {
      "cell_type": "code",
      "source": [
        "dt_model = DecisionTreeClassifier()"
      ],
      "metadata": {
        "id": "UJbfs_cGZwvl"
      },
      "execution_count": 93,
      "outputs": []
    },
    {
      "cell_type": "code",
      "source": [
        "dt_model.fit(x_train, y_train)"
      ],
      "metadata": {
        "colab": {
          "base_uri": "https://localhost:8080/"
        },
        "id": "dkNeo0gtZwqt",
        "outputId": "2741a4d0-8e53-4f2b-84a9-21caf55edddb"
      },
      "execution_count": 94,
      "outputs": [
        {
          "output_type": "execute_result",
          "data": {
            "text/plain": [
              "DecisionTreeClassifier()"
            ]
          },
          "metadata": {},
          "execution_count": 94
        }
      ]
    },
    {
      "cell_type": "markdown",
      "source": [
        "### Testing Accuracy"
      ],
      "metadata": {
        "id": "_h51WXZJjKqg"
      }
    },
    {
      "cell_type": "code",
      "source": [
        "from sklearn.metrics import classification_report, ConfusionMatrixDisplay"
      ],
      "metadata": {
        "id": "r03uq-pqZwmH"
      },
      "execution_count": 95,
      "outputs": []
    },
    {
      "cell_type": "code",
      "source": [
        "dt_pred = dt_model.predict(x_test)"
      ],
      "metadata": {
        "id": "Ft9Oen5UZ-PT"
      },
      "execution_count": 96,
      "outputs": []
    },
    {
      "cell_type": "code",
      "source": [
        "ConfusionMatrixDisplay.from_estimator(dt_model, x_test, y_test);"
      ],
      "metadata": {
        "colab": {
          "base_uri": "https://localhost:8080/",
          "height": 279
        },
        "id": "zlcFGlnzyCdt",
        "outputId": "8847217a-7db6-4739-bbe3-9aae1439c99a"
      },
      "execution_count": 97,
      "outputs": [
        {
          "output_type": "display_data",
          "data": {
            "text/plain": [
              "<Figure size 432x288 with 2 Axes>"
            ],
            "image/png": "[encoded data removed]"
          },
          "metadata": {
            "needs_background": "light"
          }
        }
      ]
    },
    {
      "cell_type": "code",
      "source": [
        "print(classification_report(y_test, dt_pred))"
      ],
      "metadata": {
        "colab": {
          "base_uri": "https://localhost:8080/"
        },
        "id": "4APlyi_ZZ-Jw",
        "outputId": "45195c94-156d-432b-c6e0-53aa6a554b7a"
      },
      "execution_count": 98,
      "outputs": [
        {
          "output_type": "stream",
          "name": "stdout",
          "text": [
            "              precision    recall  f1-score   support\n",
            "\n",
            "       Fraud       0.82      0.68      0.75        92\n",
            "    No Fraud       1.00      1.00      1.00     63908\n",
            "\n",
            "    accuracy                           1.00     64000\n",
            "   macro avg       0.91      0.84      0.87     64000\n",
            "weighted avg       1.00      1.00      1.00     64000\n",
            "\n"
          ]
        }
      ]
    },
    {
      "cell_type": "code",
      "source": [
        "features = np.array([[1, 72782.82, 72782.82, 0]])\n",
        "print(dt_model.predict(features))"
      ],
      "metadata": {
        "colab": {
          "base_uri": "https://localhost:8080/"
        },
        "id": "0j5KCwXJZ-Ei",
        "outputId": "d743f375-0248-4cdb-af0e-5935a6cbaa01"
      },
      "execution_count": 99,
      "outputs": [
        {
          "output_type": "stream",
          "name": "stdout",
          "text": [
            "['Fraud']\n"
          ]
        }
      ]
    },
    {
      "cell_type": "markdown",
      "source": [
        "## Logistic Regression Model"
      ],
      "metadata": {
        "id": "UBvs_WzEkO1t"
      }
    },
    {
      "cell_type": "markdown",
      "source": [
        "Using logistic regression to predict the same and checking which model's precision is higher."
      ],
      "metadata": {
        "id": "vkNAIt-ykTT5"
      }
    },
    {
      "cell_type": "code",
      "source": [
        "from sklearn.linear_model import LogisticRegression\n",
        "lr_model = LogisticRegression()"
      ],
      "metadata": {
        "id": "wYRipGNAZ9_l"
      },
      "execution_count": 100,
      "outputs": []
    },
    {
      "cell_type": "code",
      "source": [
        "lr_model.fit(x_train, y_train)"
      ],
      "metadata": {
        "colab": {
          "base_uri": "https://localhost:8080/"
        },
        "id": "CjVmudA1kWCh",
        "outputId": "247ffbb0-639b-4d0b-f962-1751198bcccb"
      },
      "execution_count": 101,
      "outputs": [
        {
          "output_type": "execute_result",
          "data": {
            "text/plain": [
              "LogisticRegression()"
            ]
          },
          "metadata": {},
          "execution_count": 101
        }
      ]
    },
    {
      "cell_type": "markdown",
      "source": [
        "### Testing Accuracy"
      ],
      "metadata": {
        "id": "jVXtNWlGkbTw"
      }
    },
    {
      "cell_type": "code",
      "source": [
        "lr_pred = lr_model.predict(x_test)"
      ],
      "metadata": {
        "id": "ZCmZQgAxkYUT"
      },
      "execution_count": 102,
      "outputs": []
    },
    {
      "cell_type": "code",
      "source": [
        "ConfusionMatrixDisplay.from_estimator(lr_model, x_test, y_test);"
      ],
      "metadata": {
        "colab": {
          "base_uri": "https://localhost:8080/",
          "height": 279
        },
        "id": "YCCqD8U1x6rb",
        "outputId": "e818e949-5d97-4399-eaef-158c33de9013"
      },
      "execution_count": 103,
      "outputs": [
        {
          "output_type": "display_data",
          "data": {
            "text/plain": [
              "<Figure size 432x288 with 2 Axes>"
            ],
            "image/png": "[encoded data removed]"
          },
          "metadata": {
            "needs_background": "light"
          }
        }
      ]
    },
    {
      "cell_type": "code",
      "source": [
        "print(classification_report(y_test, lr_pred))"
      ],
      "metadata": {
        "colab": {
          "base_uri": "https://localhost:8080/"
        },
        "id": "U1HEJ0jZkhCC",
        "outputId": "b1301bfe-a777-4704-ac70-af0c2b5bb586"
      },
      "execution_count": 104,
      "outputs": [
        {
          "output_type": "stream",
          "name": "stdout",
          "text": [
            "              precision    recall  f1-score   support\n",
            "\n",
            "       Fraud       0.81      0.92      0.86        92\n",
            "    No Fraud       1.00      1.00      1.00     63908\n",
            "\n",
            "    accuracy                           1.00     64000\n",
            "   macro avg       0.90      0.96      0.93     64000\n",
            "weighted avg       1.00      1.00      1.00     64000\n",
            "\n"
          ]
        }
      ]
    },
    {
      "cell_type": "code",
      "source": [
        "features = np.array([[4, 181.0, 181.0, 0]])\n",
        "print(lr_model.predict(features))"
      ],
      "metadata": {
        "colab": {
          "base_uri": "https://localhost:8080/"
        },
        "id": "oW5gLcYmkj4w",
        "outputId": "a4be2018-f056-41fd-eb9b-c22fe41530ab"
      },
      "execution_count": 105,
      "outputs": [
        {
          "output_type": "stream",
          "name": "stdout",
          "text": [
            "['Fraud']\n"
          ]
        }
      ]
    },
    {
      "cell_type": "markdown",
      "source": [
        "Since the logistic regression performed better predicting the fraudulent transactions with 85 correct and the Decision tree classifier predicted just 61 correctly, I would build my model on the logistic regression."
      ],
      "metadata": {
        "id": "4hnRPbHbkyqa"
      }
    },
    {
      "cell_type": "markdown",
      "source": [
        "# Saving the Model"
      ],
      "metadata": {
        "id": "GerkV_2Jk-aV"
      }
    },
    {
      "cell_type": "markdown",
      "source": [
        "importing the pickle package to save the trained model. This model would be used in deploying the web application."
      ],
      "metadata": {
        "id": "NZffSXrFlDDw"
      }
    },
    {
      "cell_type": "code",
      "source": [
        "import pickle"
      ],
      "metadata": {
        "id": "1CWODH5ckn9V"
      },
      "execution_count": 106,
      "outputs": []
    },
    {
      "cell_type": "code",
      "source": [
        "filename = 'trained_lr_model.csv'\n",
        "pickle.dump(lr_model, open(filename, 'wb'))"
      ],
      "metadata": {
        "id": "4DoTG16GlF2n"
      },
      "execution_count": 107,
      "outputs": []
    },
    {
      "cell_type": "markdown",
      "source": [
        "## Loading the saved model"
      ],
      "metadata": {
        "id": "r5gsHQpmlOgd"
      }
    },
    {
      "cell_type": "code",
      "source": [
        "loaded_model = pickle.load(open('trained_lr_model.csv', 'rb'))"
      ],
      "metadata": {
        "id": "KfvNv9ihlPqd"
      },
      "execution_count": 108,
      "outputs": []
    },
    {
      "cell_type": "code",
      "source": [],
      "metadata": {
        "id": "YHeVCkEQlTLp"
      },
      "execution_count": 108,
      "outputs": []
    }
  ]
}